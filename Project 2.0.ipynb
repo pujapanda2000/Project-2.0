{
 "cells": [
  {
   "cell_type": "markdown",
   "id": "6b14da41",
   "metadata": {},
   "source": [
    "# Project 2.0 , Rock Paper Scissor"
   ]
  },
  {
   "cell_type": "markdown",
   "id": "dcff1f3b",
   "metadata": {},
   "source": [
    "LETS PLAY ROCK PAPER SCISSORS OUR WAY !"
   ]
  },
  {
   "cell_type": "code",
   "execution_count": 11,
   "id": "e25dc86a",
   "metadata": {},
   "outputs": [
    {
     "name": "stdout",
     "output_type": "stream",
     "text": [
      "_______RULES OF THE GAME_______\n",
      "\n",
      "*************************************************************************************\n",
      "\n",
      "The rules are same as the rock paper scissors game we play is the real world: \n",
      "\n",
      "You have to input any one of three things i.e 'Rock','Paper','Scissors'And wait for output. \n",
      " HAVE FUN \n",
      "*************************************************************************************\n",
      "\n",
      "LET'S START \n",
      "*********\n",
      "\n",
      "Enter an any one of the three  i.e 'Rock','Paper','Scissors' : Rock\n",
      "_____________________________________________________________________________________\n",
      "\n",
      "You have beaten the computer....You score a point\n",
      "_____________________________________________________________________________________\n",
      "\n"
     ]
    }
   ],
   "source": [
    "#RULES OF THE GAME\n",
    "\n",
    "print(\"_______RULES OF THE GAME_______\\n\")\n",
    "print(\"*\"*85+ \"\\n\")\n",
    "print(\"The rules are same as the rock paper scissors game we play is the real world: \"+\"\\n\" )\n",
    "print(\"You have to input any one of three things i.e 'Rock','Paper','Scissors'And wait for output. \\n HAVE FUN \")\n",
    "\n",
    "print(\"*\"*85 + \"\\n\")\n",
    "\n",
    "\n",
    "print(\"LET'S START \")\n",
    "print(\"*\"*9+ \"\\n\")\n",
    "\n",
    "\n",
    "userInput= str(input(\"Enter an any one of the three  i.e 'Rock','Paper','Scissors' : \"))\n",
    "\n",
    "if(userInput==\"Rock\"):\n",
    "            print(\"_\"*85 +\"\\n\")\n",
    "            print(\"You have beaten the computer....You score a point\")\n",
    "            print(\"_\"*85 +\"\\n\")\n",
    "elif(userInput == \"Scissors\") or (userInput == \"scissors\"):\n",
    "            print(\"_\"*85 +\"\\n\")\n",
    "            print(\"This was a tie ... You can try again .\")\n",
    "            print(\"_\"*85 +\"\\n\")\n",
    "else:\n",
    "            print(\"_\"*85 +\"\\n\")\n",
    "            print(\"This was a tie ... You can try again .\")\n",
    "            print(\"_\"*85 +\"\\n\")\n",
    "           \n",
    "            "
   ]
  },
  {
   "cell_type": "code",
   "execution_count": 14,
   "id": "cb88b558",
   "metadata": {},
   "outputs": [
    {
     "name": "stdout",
     "output_type": "stream",
     "text": [
      "_____________________________________________________________________________________\n",
      "\n",
      "Hope you had fun playing with us : ) !\n",
      "_____________________________________________________________________________________\n",
      "\n"
     ]
    }
   ],
   "source": [
    "print(\"_\"*85 +\"\\n\")\n",
    "print(\"Hope you had fun playing with us : ) !\")\n",
    "print(\"_\"*85 +\"\\n\")           "
   ]
  },
  {
   "cell_type": "code",
   "execution_count": null,
   "id": "62c79c34",
   "metadata": {},
   "outputs": [],
   "source": []
  }
 ],
 "metadata": {
  "kernelspec": {
   "display_name": "Python 3",
   "language": "python",
   "name": "python3"
  },
  "language_info": {
   "codemirror_mode": {
    "name": "ipython",
    "version": 3
   },
   "file_extension": ".py",
   "mimetype": "text/x-python",
   "name": "python",
   "nbconvert_exporter": "python",
   "pygments_lexer": "ipython3",
   "version": "3.8.8"
  }
 },
 "nbformat": 4,
 "nbformat_minor": 5
}
